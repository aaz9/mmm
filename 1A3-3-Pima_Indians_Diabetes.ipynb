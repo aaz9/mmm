{
 "cells": [
  {
   "cell_type": "code",
   "execution_count": 1,
   "id": "008bba4c",
   "metadata": {},
   "outputs": [],
   "source": [
    "import pandas as pd\n",
    "import numpy as np"
   ]
  },
  {
   "cell_type": "code",
   "execution_count": 2,
   "id": "8a45577a",
   "metadata": {},
   "outputs": [],
   "source": [
    "d = pd.read_csv(\"C:/diabetes.csv\")"
   ]
  },
  {
   "cell_type": "code",
   "execution_count": 3,
   "id": "4ac1e10f",
   "metadata": {},
   "outputs": [
    {
     "data": {
      "text/plain": [
       "RangeIndex(start=0, stop=768, step=1)"
      ]
     },
     "execution_count": 3,
     "metadata": {},
     "output_type": "execute_result"
    }
   ],
   "source": [
    "d.index"
   ]
  },
  {
   "cell_type": "code",
   "execution_count": 4,
   "id": "5fc43838",
   "metadata": {},
   "outputs": [
    {
     "name": "stdout",
     "output_type": "stream",
     "text": [
      "<class 'pandas.core.frame.DataFrame'>\n",
      "RangeIndex: 768 entries, 0 to 767\n",
      "Data columns (total 9 columns):\n",
      " #   Column                    Non-Null Count  Dtype  \n",
      "---  ------                    --------------  -----  \n",
      " 0   Pregnancies               768 non-null    int64  \n",
      " 1   Glucose                   768 non-null    int64  \n",
      " 2   BloodPressure             768 non-null    int64  \n",
      " 3   SkinThickness             768 non-null    int64  \n",
      " 4   Insulin                   768 non-null    int64  \n",
      " 5   BMI                       768 non-null    float64\n",
      " 6   DiabetesPedigreeFunction  768 non-null    float64\n",
      " 7   Age                       768 non-null    int64  \n",
      " 8   Outcome                   768 non-null    int64  \n",
      "dtypes: float64(2), int64(7)\n",
      "memory usage: 54.1 KB\n"
     ]
    }
   ],
   "source": [
    "d.info()"
   ]
  },
  {
   "cell_type": "code",
   "execution_count": 5,
   "id": "49eed94e",
   "metadata": {},
   "outputs": [
    {
     "data": {
      "text/plain": [
       "(768, 9)"
      ]
     },
     "execution_count": 5,
     "metadata": {},
     "output_type": "execute_result"
    }
   ],
   "source": [
    "d.shape"
   ]
  },
  {
   "cell_type": "code",
   "execution_count": 6,
   "id": "e315403e",
   "metadata": {},
   "outputs": [
    {
     "data": {
      "text/html": [
       "<div>\n",
       "<style scoped>\n",
       "    .dataframe tbody tr th:only-of-type {\n",
       "        vertical-align: middle;\n",
       "    }\n",
       "\n",
       "    .dataframe tbody tr th {\n",
       "        vertical-align: top;\n",
       "    }\n",
       "\n",
       "    .dataframe thead th {\n",
       "        text-align: right;\n",
       "    }\n",
       "</style>\n",
       "<table border=\"1\" class=\"dataframe\">\n",
       "  <thead>\n",
       "    <tr style=\"text-align: right;\">\n",
       "      <th></th>\n",
       "      <th>Pregnancies</th>\n",
       "      <th>Glucose</th>\n",
       "      <th>BloodPressure</th>\n",
       "      <th>SkinThickness</th>\n",
       "      <th>Insulin</th>\n",
       "      <th>BMI</th>\n",
       "      <th>DiabetesPedigreeFunction</th>\n",
       "      <th>Age</th>\n",
       "      <th>Outcome</th>\n",
       "    </tr>\n",
       "  </thead>\n",
       "  <tbody>\n",
       "    <tr>\n",
       "      <th>count</th>\n",
       "      <td>768.000000</td>\n",
       "      <td>768.000000</td>\n",
       "      <td>768.000000</td>\n",
       "      <td>768.000000</td>\n",
       "      <td>768.000000</td>\n",
       "      <td>768.000000</td>\n",
       "      <td>768.000000</td>\n",
       "      <td>768.000000</td>\n",
       "      <td>768.000000</td>\n",
       "    </tr>\n",
       "    <tr>\n",
       "      <th>mean</th>\n",
       "      <td>3.845052</td>\n",
       "      <td>120.894531</td>\n",
       "      <td>69.105469</td>\n",
       "      <td>20.536458</td>\n",
       "      <td>79.799479</td>\n",
       "      <td>31.992578</td>\n",
       "      <td>0.471876</td>\n",
       "      <td>33.240885</td>\n",
       "      <td>0.348958</td>\n",
       "    </tr>\n",
       "    <tr>\n",
       "      <th>std</th>\n",
       "      <td>3.369578</td>\n",
       "      <td>31.972618</td>\n",
       "      <td>19.355807</td>\n",
       "      <td>15.952218</td>\n",
       "      <td>115.244002</td>\n",
       "      <td>7.884160</td>\n",
       "      <td>0.331329</td>\n",
       "      <td>11.760232</td>\n",
       "      <td>0.476951</td>\n",
       "    </tr>\n",
       "    <tr>\n",
       "      <th>min</th>\n",
       "      <td>0.000000</td>\n",
       "      <td>0.000000</td>\n",
       "      <td>0.000000</td>\n",
       "      <td>0.000000</td>\n",
       "      <td>0.000000</td>\n",
       "      <td>0.000000</td>\n",
       "      <td>0.078000</td>\n",
       "      <td>21.000000</td>\n",
       "      <td>0.000000</td>\n",
       "    </tr>\n",
       "    <tr>\n",
       "      <th>25%</th>\n",
       "      <td>1.000000</td>\n",
       "      <td>99.000000</td>\n",
       "      <td>62.000000</td>\n",
       "      <td>0.000000</td>\n",
       "      <td>0.000000</td>\n",
       "      <td>27.300000</td>\n",
       "      <td>0.243750</td>\n",
       "      <td>24.000000</td>\n",
       "      <td>0.000000</td>\n",
       "    </tr>\n",
       "    <tr>\n",
       "      <th>50%</th>\n",
       "      <td>3.000000</td>\n",
       "      <td>117.000000</td>\n",
       "      <td>72.000000</td>\n",
       "      <td>23.000000</td>\n",
       "      <td>30.500000</td>\n",
       "      <td>32.000000</td>\n",
       "      <td>0.372500</td>\n",
       "      <td>29.000000</td>\n",
       "      <td>0.000000</td>\n",
       "    </tr>\n",
       "    <tr>\n",
       "      <th>75%</th>\n",
       "      <td>6.000000</td>\n",
       "      <td>140.250000</td>\n",
       "      <td>80.000000</td>\n",
       "      <td>32.000000</td>\n",
       "      <td>127.250000</td>\n",
       "      <td>36.600000</td>\n",
       "      <td>0.626250</td>\n",
       "      <td>41.000000</td>\n",
       "      <td>1.000000</td>\n",
       "    </tr>\n",
       "    <tr>\n",
       "      <th>max</th>\n",
       "      <td>17.000000</td>\n",
       "      <td>199.000000</td>\n",
       "      <td>122.000000</td>\n",
       "      <td>99.000000</td>\n",
       "      <td>846.000000</td>\n",
       "      <td>67.100000</td>\n",
       "      <td>2.420000</td>\n",
       "      <td>81.000000</td>\n",
       "      <td>1.000000</td>\n",
       "    </tr>\n",
       "  </tbody>\n",
       "</table>\n",
       "</div>"
      ],
      "text/plain": [
       "       Pregnancies     Glucose  BloodPressure  SkinThickness     Insulin  \\\n",
       "count   768.000000  768.000000     768.000000     768.000000  768.000000   \n",
       "mean      3.845052  120.894531      69.105469      20.536458   79.799479   \n",
       "std       3.369578   31.972618      19.355807      15.952218  115.244002   \n",
       "min       0.000000    0.000000       0.000000       0.000000    0.000000   \n",
       "25%       1.000000   99.000000      62.000000       0.000000    0.000000   \n",
       "50%       3.000000  117.000000      72.000000      23.000000   30.500000   \n",
       "75%       6.000000  140.250000      80.000000      32.000000  127.250000   \n",
       "max      17.000000  199.000000     122.000000      99.000000  846.000000   \n",
       "\n",
       "              BMI  DiabetesPedigreeFunction         Age     Outcome  \n",
       "count  768.000000                768.000000  768.000000  768.000000  \n",
       "mean    31.992578                  0.471876   33.240885    0.348958  \n",
       "std      7.884160                  0.331329   11.760232    0.476951  \n",
       "min      0.000000                  0.078000   21.000000    0.000000  \n",
       "25%     27.300000                  0.243750   24.000000    0.000000  \n",
       "50%     32.000000                  0.372500   29.000000    0.000000  \n",
       "75%     36.600000                  0.626250   41.000000    1.000000  \n",
       "max     67.100000                  2.420000   81.000000    1.000000  "
      ]
     },
     "execution_count": 6,
     "metadata": {},
     "output_type": "execute_result"
    }
   ],
   "source": [
    "d.describe()"
   ]
  },
  {
   "cell_type": "code",
   "execution_count": 7,
   "id": "cdb577d1",
   "metadata": {},
   "outputs": [
    {
     "data": {
      "text/plain": [
       "Pregnancies                   int64\n",
       "Glucose                       int64\n",
       "BloodPressure                 int64\n",
       "SkinThickness                 int64\n",
       "Insulin                       int64\n",
       "BMI                         float64\n",
       "DiabetesPedigreeFunction    float64\n",
       "Age                           int64\n",
       "Outcome                       int64\n",
       "dtype: object"
      ]
     },
     "execution_count": 7,
     "metadata": {},
     "output_type": "execute_result"
    }
   ],
   "source": [
    "d.dtypes"
   ]
  },
  {
   "cell_type": "code",
   "execution_count": 8,
   "id": "dbf733cc",
   "metadata": {},
   "outputs": [
    {
     "data": {
      "text/plain": [
       "Index(['Pregnancies', 'Glucose', 'BloodPressure', 'SkinThickness', 'Insulin',\n",
       "       'BMI', 'DiabetesPedigreeFunction', 'Age', 'Outcome'],\n",
       "      dtype='object')"
      ]
     },
     "execution_count": 8,
     "metadata": {},
     "output_type": "execute_result"
    }
   ],
   "source": [
    "d.columns"
   ]
  },
  {
   "cell_type": "code",
   "execution_count": 9,
   "id": "de07cf74",
   "metadata": {},
   "outputs": [
    {
     "data": {
      "text/html": [
       "<div>\n",
       "<style scoped>\n",
       "    .dataframe tbody tr th:only-of-type {\n",
       "        vertical-align: middle;\n",
       "    }\n",
       "\n",
       "    .dataframe tbody tr th {\n",
       "        vertical-align: top;\n",
       "    }\n",
       "\n",
       "    .dataframe thead th {\n",
       "        text-align: right;\n",
       "    }\n",
       "</style>\n",
       "<table border=\"1\" class=\"dataframe\">\n",
       "  <thead>\n",
       "    <tr style=\"text-align: right;\">\n",
       "      <th></th>\n",
       "      <th>Pregnancies</th>\n",
       "      <th>Glucose</th>\n",
       "      <th>BloodPressure</th>\n",
       "      <th>SkinThickness</th>\n",
       "      <th>Insulin</th>\n",
       "      <th>BMI</th>\n",
       "      <th>DiabetesPedigreeFunction</th>\n",
       "      <th>Age</th>\n",
       "      <th>Outcome</th>\n",
       "    </tr>\n",
       "  </thead>\n",
       "  <tbody>\n",
       "    <tr>\n",
       "      <th>0</th>\n",
       "      <td>6</td>\n",
       "      <td>148</td>\n",
       "      <td>72</td>\n",
       "      <td>35</td>\n",
       "      <td>0</td>\n",
       "      <td>33.6</td>\n",
       "      <td>0.627</td>\n",
       "      <td>50</td>\n",
       "      <td>1</td>\n",
       "    </tr>\n",
       "    <tr>\n",
       "      <th>1</th>\n",
       "      <td>1</td>\n",
       "      <td>85</td>\n",
       "      <td>66</td>\n",
       "      <td>29</td>\n",
       "      <td>0</td>\n",
       "      <td>26.6</td>\n",
       "      <td>0.351</td>\n",
       "      <td>31</td>\n",
       "      <td>0</td>\n",
       "    </tr>\n",
       "    <tr>\n",
       "      <th>2</th>\n",
       "      <td>8</td>\n",
       "      <td>183</td>\n",
       "      <td>64</td>\n",
       "      <td>0</td>\n",
       "      <td>0</td>\n",
       "      <td>23.3</td>\n",
       "      <td>0.672</td>\n",
       "      <td>32</td>\n",
       "      <td>1</td>\n",
       "    </tr>\n",
       "    <tr>\n",
       "      <th>3</th>\n",
       "      <td>1</td>\n",
       "      <td>89</td>\n",
       "      <td>66</td>\n",
       "      <td>23</td>\n",
       "      <td>94</td>\n",
       "      <td>28.1</td>\n",
       "      <td>0.167</td>\n",
       "      <td>21</td>\n",
       "      <td>0</td>\n",
       "    </tr>\n",
       "    <tr>\n",
       "      <th>4</th>\n",
       "      <td>0</td>\n",
       "      <td>137</td>\n",
       "      <td>40</td>\n",
       "      <td>35</td>\n",
       "      <td>168</td>\n",
       "      <td>43.1</td>\n",
       "      <td>2.288</td>\n",
       "      <td>33</td>\n",
       "      <td>1</td>\n",
       "    </tr>\n",
       "  </tbody>\n",
       "</table>\n",
       "</div>"
      ],
      "text/plain": [
       "   Pregnancies  Glucose  BloodPressure  SkinThickness  Insulin   BMI  \\\n",
       "0            6      148             72             35        0  33.6   \n",
       "1            1       85             66             29        0  26.6   \n",
       "2            8      183             64              0        0  23.3   \n",
       "3            1       89             66             23       94  28.1   \n",
       "4            0      137             40             35      168  43.1   \n",
       "\n",
       "   DiabetesPedigreeFunction  Age  Outcome  \n",
       "0                     0.627   50        1  \n",
       "1                     0.351   31        0  \n",
       "2                     0.672   32        1  \n",
       "3                     0.167   21        0  \n",
       "4                     2.288   33        1  "
      ]
     },
     "execution_count": 9,
     "metadata": {},
     "output_type": "execute_result"
    }
   ],
   "source": [
    "d.head()"
   ]
  },
  {
   "cell_type": "code",
   "execution_count": 11,
   "id": "8e8bc1b5",
   "metadata": {},
   "outputs": [
    {
     "data": {
      "text/html": [
       "<div>\n",
       "<style scoped>\n",
       "    .dataframe tbody tr th:only-of-type {\n",
       "        vertical-align: middle;\n",
       "    }\n",
       "\n",
       "    .dataframe tbody tr th {\n",
       "        vertical-align: top;\n",
       "    }\n",
       "\n",
       "    .dataframe thead th {\n",
       "        text-align: right;\n",
       "    }\n",
       "</style>\n",
       "<table border=\"1\" class=\"dataframe\">\n",
       "  <thead>\n",
       "    <tr style=\"text-align: right;\">\n",
       "      <th></th>\n",
       "      <th>Pregnancies</th>\n",
       "      <th>Glucose</th>\n",
       "      <th>BloodPressure</th>\n",
       "      <th>SkinThickness</th>\n",
       "      <th>Insulin</th>\n",
       "      <th>BMI</th>\n",
       "      <th>DiabetesPedigreeFunction</th>\n",
       "      <th>Age</th>\n",
       "      <th>Outcome</th>\n",
       "    </tr>\n",
       "  </thead>\n",
       "  <tbody>\n",
       "    <tr>\n",
       "      <th>763</th>\n",
       "      <td>10</td>\n",
       "      <td>101</td>\n",
       "      <td>76</td>\n",
       "      <td>48</td>\n",
       "      <td>180</td>\n",
       "      <td>32.9</td>\n",
       "      <td>0.171</td>\n",
       "      <td>63</td>\n",
       "      <td>0</td>\n",
       "    </tr>\n",
       "    <tr>\n",
       "      <th>764</th>\n",
       "      <td>2</td>\n",
       "      <td>122</td>\n",
       "      <td>70</td>\n",
       "      <td>27</td>\n",
       "      <td>0</td>\n",
       "      <td>36.8</td>\n",
       "      <td>0.340</td>\n",
       "      <td>27</td>\n",
       "      <td>0</td>\n",
       "    </tr>\n",
       "    <tr>\n",
       "      <th>765</th>\n",
       "      <td>5</td>\n",
       "      <td>121</td>\n",
       "      <td>72</td>\n",
       "      <td>23</td>\n",
       "      <td>112</td>\n",
       "      <td>26.2</td>\n",
       "      <td>0.245</td>\n",
       "      <td>30</td>\n",
       "      <td>0</td>\n",
       "    </tr>\n",
       "    <tr>\n",
       "      <th>766</th>\n",
       "      <td>1</td>\n",
       "      <td>126</td>\n",
       "      <td>60</td>\n",
       "      <td>0</td>\n",
       "      <td>0</td>\n",
       "      <td>30.1</td>\n",
       "      <td>0.349</td>\n",
       "      <td>47</td>\n",
       "      <td>1</td>\n",
       "    </tr>\n",
       "    <tr>\n",
       "      <th>767</th>\n",
       "      <td>1</td>\n",
       "      <td>93</td>\n",
       "      <td>70</td>\n",
       "      <td>31</td>\n",
       "      <td>0</td>\n",
       "      <td>30.4</td>\n",
       "      <td>0.315</td>\n",
       "      <td>23</td>\n",
       "      <td>0</td>\n",
       "    </tr>\n",
       "  </tbody>\n",
       "</table>\n",
       "</div>"
      ],
      "text/plain": [
       "     Pregnancies  Glucose  BloodPressure  SkinThickness  Insulin   BMI  \\\n",
       "763           10      101             76             48      180  32.9   \n",
       "764            2      122             70             27        0  36.8   \n",
       "765            5      121             72             23      112  26.2   \n",
       "766            1      126             60              0        0  30.1   \n",
       "767            1       93             70             31        0  30.4   \n",
       "\n",
       "     DiabetesPedigreeFunction  Age  Outcome  \n",
       "763                     0.171   63        0  \n",
       "764                     0.340   27        0  \n",
       "765                     0.245   30        0  \n",
       "766                     0.349   47        1  \n",
       "767                     0.315   23        0  "
      ]
     },
     "execution_count": 11,
     "metadata": {},
     "output_type": "execute_result"
    }
   ],
   "source": [
    "d.tail()"
   ]
  },
  {
   "cell_type": "code",
   "execution_count": 12,
   "id": "998a2158",
   "metadata": {},
   "outputs": [
    {
     "data": {
      "text/plain": [
       "Pregnancies                 0\n",
       "Glucose                     0\n",
       "BloodPressure               0\n",
       "SkinThickness               0\n",
       "Insulin                     0\n",
       "BMI                         0\n",
       "DiabetesPedigreeFunction    0\n",
       "Age                         0\n",
       "Outcome                     0\n",
       "dtype: int64"
      ]
     },
     "execution_count": 12,
     "metadata": {},
     "output_type": "execute_result"
    }
   ],
   "source": [
    "d.isna().sum()"
   ]
  },
  {
   "cell_type": "code",
   "execution_count": 14,
   "id": "a9539458",
   "metadata": {},
   "outputs": [
    {
     "data": {
      "text/plain": [
       "{'whiskers': [<matplotlib.lines.Line2D at 0x2a41b983d90>,\n",
       "  <matplotlib.lines.Line2D at 0x2a41b9e4070>,\n",
       "  <matplotlib.lines.Line2D at 0x2a41b9e5060>,\n",
       "  <matplotlib.lines.Line2D at 0x2a41b9e5300>,\n",
       "  <matplotlib.lines.Line2D at 0x2a41b9e62c0>,\n",
       "  <matplotlib.lines.Line2D at 0x2a41b9e6440>,\n",
       "  <matplotlib.lines.Line2D at 0x2a41b9e7400>,\n",
       "  <matplotlib.lines.Line2D at 0x2a41b9e76a0>,\n",
       "  <matplotlib.lines.Line2D at 0x2a41ba1c6a0>,\n",
       "  <matplotlib.lines.Line2D at 0x2a41ba1c940>,\n",
       "  <matplotlib.lines.Line2D at 0x2a41ba1d900>,\n",
       "  <matplotlib.lines.Line2D at 0x2a41ba1dba0>,\n",
       "  <matplotlib.lines.Line2D at 0x2a41ba1eb60>,\n",
       "  <matplotlib.lines.Line2D at 0x2a41ba1ee00>,\n",
       "  <matplotlib.lines.Line2D at 0x2a41ba1fdc0>,\n",
       "  <matplotlib.lines.Line2D at 0x2a41ba580a0>,\n",
       "  <matplotlib.lines.Line2D at 0x2a41ba59060>,\n",
       "  <matplotlib.lines.Line2D at 0x2a41ba59300>],\n",
       " 'caps': [<matplotlib.lines.Line2D at 0x2a41b9e4310>,\n",
       "  <matplotlib.lines.Line2D at 0x2a41b9e45b0>,\n",
       "  <matplotlib.lines.Line2D at 0x2a41b9e55a0>,\n",
       "  <matplotlib.lines.Line2D at 0x2a41b9e5840>,\n",
       "  <matplotlib.lines.Line2D at 0x2a41b9e66e0>,\n",
       "  <matplotlib.lines.Line2D at 0x2a41b9e6980>,\n",
       "  <matplotlib.lines.Line2D at 0x2a41b9e7940>,\n",
       "  <matplotlib.lines.Line2D at 0x2a41b9e7be0>,\n",
       "  <matplotlib.lines.Line2D at 0x2a41ba1cbe0>,\n",
       "  <matplotlib.lines.Line2D at 0x2a41ba1ce80>,\n",
       "  <matplotlib.lines.Line2D at 0x2a41ba1de40>,\n",
       "  <matplotlib.lines.Line2D at 0x2a41ba1e0e0>,\n",
       "  <matplotlib.lines.Line2D at 0x2a41ba1f0a0>,\n",
       "  <matplotlib.lines.Line2D at 0x2a41ba1f340>,\n",
       "  <matplotlib.lines.Line2D at 0x2a41ba58340>,\n",
       "  <matplotlib.lines.Line2D at 0x2a41ba585e0>,\n",
       "  <matplotlib.lines.Line2D at 0x2a41ba595a0>,\n",
       "  <matplotlib.lines.Line2D at 0x2a41ba59840>],\n",
       " 'boxes': [<matplotlib.lines.Line2D at 0x2a41b983af0>,\n",
       "  <matplotlib.lines.Line2D at 0x2a41b9e4dc0>,\n",
       "  <matplotlib.lines.Line2D at 0x2a41b9e6020>,\n",
       "  <matplotlib.lines.Line2D at 0x2a41b9e7160>,\n",
       "  <matplotlib.lines.Line2D at 0x2a41ba1c400>,\n",
       "  <matplotlib.lines.Line2D at 0x2a41ba1d660>,\n",
       "  <matplotlib.lines.Line2D at 0x2a41ba1e8c0>,\n",
       "  <matplotlib.lines.Line2D at 0x2a41ba1fb20>,\n",
       "  <matplotlib.lines.Line2D at 0x2a41ba58dc0>],\n",
       " 'medians': [<matplotlib.lines.Line2D at 0x2a41b9e4850>,\n",
       "  <matplotlib.lines.Line2D at 0x2a41b9e5ae0>,\n",
       "  <matplotlib.lines.Line2D at 0x2a41b9e6c20>,\n",
       "  <matplotlib.lines.Line2D at 0x2a41b9e7e80>,\n",
       "  <matplotlib.lines.Line2D at 0x2a41ba1d120>,\n",
       "  <matplotlib.lines.Line2D at 0x2a41ba1e380>,\n",
       "  <matplotlib.lines.Line2D at 0x2a41ba1f5e0>,\n",
       "  <matplotlib.lines.Line2D at 0x2a41ba58880>,\n",
       "  <matplotlib.lines.Line2D at 0x2a41ba59ae0>],\n",
       " 'fliers': [<matplotlib.lines.Line2D at 0x2a41b9e4af0>,\n",
       "  <matplotlib.lines.Line2D at 0x2a41b9e5d80>,\n",
       "  <matplotlib.lines.Line2D at 0x2a41b9e6ec0>,\n",
       "  <matplotlib.lines.Line2D at 0x2a41ba1c160>,\n",
       "  <matplotlib.lines.Line2D at 0x2a41ba1d3c0>,\n",
       "  <matplotlib.lines.Line2D at 0x2a41ba1e620>,\n",
       "  <matplotlib.lines.Line2D at 0x2a41ba1f880>,\n",
       "  <matplotlib.lines.Line2D at 0x2a41ba58b20>,\n",
       "  <matplotlib.lines.Line2D at 0x2a41ba59d80>],\n",
       " 'means': []}"
      ]
     },
     "execution_count": 14,
     "metadata": {},
     "output_type": "execute_result"
    },
    {
     "data": {
      "image/png": "[encoded data removed]",
      "text/plain": [
       "<Figure size 640x480 with 1 Axes>"
      ]
     },
     "metadata": {},
     "output_type": "display_data"
    }
   ],
   "source": [
    "import matplotlib.pyplot as plt\n",
    "plt.boxplot(d)"
   ]
  },
  {
   "cell_type": "code",
   "execution_count": 16,
   "id": "8e72c215",
   "metadata": {},
   "outputs": [
    {
     "data": {
      "text/plain": [
       "{'whiskers': [<matplotlib.lines.Line2D at 0x2a41bac78e0>,\n",
       "  <matplotlib.lines.Line2D at 0x2a41bac7a60>],\n",
       " 'caps': [<matplotlib.lines.Line2D at 0x2a41bac7d00>,\n",
       "  <matplotlib.lines.Line2D at 0x2a41bac7fa0>],\n",
       " 'boxes': [<matplotlib.lines.Line2D at 0x2a41bac7640>],\n",
       " 'medians': [<matplotlib.lines.Line2D at 0x2a41baf8280>],\n",
       " 'fliers': [<matplotlib.lines.Line2D at 0x2a41baf8520>],\n",
       " 'means': []}"
      ]
     },
     "execution_count": 16,
     "metadata": {},
     "output_type": "execute_result"
    },
    {
     "data": {
      "image/png": "[encoded data removed]",
      "text/plain": [
       "<Figure size 640x480 with 1 Axes>"
      ]
     },
     "metadata": {},
     "output_type": "display_data"
    }
   ],
   "source": [
    "plt.boxplot(d['BloodPressure'])"
   ]
  },
  {
   "cell_type": "code",
   "execution_count": 18,
   "id": "4eeb566a",
   "metadata": {},
   "outputs": [],
   "source": [
    "BloodPressure_df = pd.DataFrame(d['BloodPressure'])\n",
    "q1 = BloodPressure_df.quantile(q=0.25)\n",
    "q3 = BloodPressure_df.quantile(q=0.75)\n",
    "IQR = q3 - q1\n",
    "\n",
    "ll = int(q1  - (1.5*IQR))\n",
    "ul = int(q3  + (1.5*IQR))\n",
    "\n",
    "d.loc[d['BloodPressure']<ll, 'BloodPressure'] = int(BloodPressure_df.quantile(q=0.20))\n",
    "d.loc[d['BloodPressure']>ul, 'BloodPressure'] = int(BloodPressure_df.quantile(q=0.90))"
   ]
  },
  {
   "cell_type": "code",
   "execution_count": 19,
   "id": "5c42c321",
   "metadata": {},
   "outputs": [
    {
     "data": {
      "text/plain": [
       "{'whiskers': [<matplotlib.lines.Line2D at 0x2a41d3bf100>,\n",
       "  <matplotlib.lines.Line2D at 0x2a41d3bf3d0>],\n",
       " 'caps': [<matplotlib.lines.Line2D at 0x2a41d3bf670>,\n",
       "  <matplotlib.lines.Line2D at 0x2a41d3bf910>],\n",
       " 'boxes': [<matplotlib.lines.Line2D at 0x2a41d3bee60>],\n",
       " 'medians': [<matplotlib.lines.Line2D at 0x2a41d3bfbb0>],\n",
       " 'fliers': [<matplotlib.lines.Line2D at 0x2a41d3bfe50>],\n",
       " 'means': []}"
      ]
     },
     "execution_count": 19,
     "metadata": {},
     "output_type": "execute_result"
    },
    {
     "data": {
      "image/png": "[encoded data removed]",
      "text/plain": [
       "<Figure size 640x480 with 1 Axes>"
      ]
     },
     "metadata": {},
     "output_type": "display_data"
    }
   ],
   "source": [
    "plt.boxplot(d['BloodPressure'])"
   ]
  },
  {
   "cell_type": "code",
   "execution_count": 29,
   "id": "e311480c",
   "metadata": {},
   "outputs": [
    {
     "name": "stdout",
     "output_type": "stream",
     "text": [
      "1.0\n",
      "0.7662337662337663\n"
     ]
    }
   ],
   "source": [
    "from sklearn.tree import DecisionTreeClassifier\n",
    "from sklearn import metrics\n",
    "from sklearn.model_selection import train_test_split\n",
    "from sklearn.model_selection import cross_val_score\n",
    "\n",
    "f = ['Pregnancies', 'Glucose', 'BloodPressure', 'SkinThickness', 'Insulin',\n",
    "       'BMI', 'DiabetesPedigreeFunction', 'Age']\n",
    "r = ['Outcome']\n",
    "\n",
    "x = d[f]\n",
    "y = d[r]\n",
    "\n",
    "xt, xxt, yt, yyt = train_test_split(x, y, test_size = 0.2)\n",
    "clf = DecisionTreeClassifier()\n",
    "clf = clf.fit(xt, yt)\n",
    "\n",
    "yt_pred = clf.predict(xt)\n",
    "yyt_pred = clf.predict(xxt)\n",
    "\n",
    "a = metrics.accuracy_score(yt_pred, yt)\n",
    "aa = metrics.accuracy_score(yyt_pred, yyt)\n",
    "\n",
    "print(a)\n",
    "print(aa)"
   ]
  },
  {
   "cell_type": "code",
   "execution_count": 32,
   "id": "f949e71e",
   "metadata": {},
   "outputs": [
    {
     "name": "stdout",
     "output_type": "stream",
     "text": [
      "0.70193019566367\n"
     ]
    }
   ],
   "source": [
    "clf1 = DecisionTreeClassifier()\n",
    "print(cross_val_score(clf1, xt, yt, cv = 10, scoring = 'accuracy').mean())"
   ]
  },
  {
   "cell_type": "code",
   "execution_count": 30,
   "id": "32718b00",
   "metadata": {},
   "outputs": [
    {
     "data": {
      "text/plain": [
       "[Text(0.5080158622559653, 0.96875, 'x[1] <= 133.5\\ngini = 0.45\\nsamples = 614\\nvalue = [404, 210]'),\n",
       " Text(0.23864560737527116, 0.90625, 'x[7] <= 28.5\\ngini = 0.328\\nsamples = 425\\nvalue = [337, 88]'),\n",
       " Text(0.17129880694143168, 0.84375, 'x[5] <= 45.4\\ngini = 0.18\\nsamples = 230\\nvalue = [207, 23]'),\n",
       " Text(0.13218546637744036, 0.78125, 'x[1] <= 127.5\\ngini = 0.161\\nsamples = 226\\nvalue = [206, 20]'),\n",
       " Text(0.07998915401301518, 0.71875, 'x[0] <= 7.5\\ngini = 0.125\\nsamples = 209\\nvalue = [195, 14]'),\n",
       " Text(0.07131236442516269, 0.65625, 'x[5] <= 32.3\\ngini = 0.117\\nsamples = 208\\nvalue = [195, 13]'),\n",
       " Text(0.01735357917570499, 0.59375, 'x[6] <= 0.672\\ngini = 0.016\\nsamples = 121\\nvalue = [120, 1]'),\n",
       " Text(0.008676789587852495, 0.53125, 'gini = 0.0\\nsamples = 103\\nvalue = [103, 0]'),\n",
       " Text(0.026030368763557483, 0.53125, 'x[6] <= 0.686\\ngini = 0.105\\nsamples = 18\\nvalue = [17, 1]'),\n",
       " Text(0.01735357917570499, 0.46875, 'gini = 0.0\\nsamples = 1\\nvalue = [0, 1]'),\n",
       " Text(0.03470715835140998, 0.46875, 'gini = 0.0\\nsamples = 17\\nvalue = [17, 0]'),\n",
       " Text(0.12527114967462039, 0.59375, 'x[6] <= 0.946\\ngini = 0.238\\nsamples = 87\\nvalue = [75, 12]'),\n",
       " Text(0.09219088937093275, 0.53125, 'x[5] <= 33.65\\ngini = 0.21\\nsamples = 84\\nvalue = [74, 10]'),\n",
       " Text(0.052060737527114966, 0.46875, 'x[0] <= 0.5\\ngini = 0.43\\nsamples = 16\\nvalue = [11, 5]'),\n",
       " Text(0.03470715835140998, 0.40625, 'x[7] <= 25.5\\ngini = 0.375\\nsamples = 4\\nvalue = [1, 3]'),\n",
       " Text(0.026030368763557483, 0.34375, 'gini = 0.0\\nsamples = 3\\nvalue = [0, 3]'),\n",
       " Text(0.04338394793926247, 0.34375, 'gini = 0.0\\nsamples = 1\\nvalue = [1, 0]'),\n",
       " Text(0.06941431670281996, 0.40625, 'x[7] <= 27.5\\ngini = 0.278\\nsamples = 12\\nvalue = [10, 2]'),\n",
       " Text(0.06073752711496746, 0.34375, 'x[4] <= 22.5\\ngini = 0.165\\nsamples = 11\\nvalue = [10, 1]'),\n",
       " Text(0.052060737527114966, 0.28125, 'x[2] <= 72.0\\ngini = 0.5\\nsamples = 2\\nvalue = [1, 1]'),\n",
       " Text(0.04338394793926247, 0.21875, 'gini = 0.0\\nsamples = 1\\nvalue = [0, 1]'),\n",
       " Text(0.06073752711496746, 0.21875, 'gini = 0.0\\nsamples = 1\\nvalue = [1, 0]'),\n",
       " Text(0.06941431670281996, 0.28125, 'gini = 0.0\\nsamples = 9\\nvalue = [9, 0]'),\n",
       " Text(0.07809110629067245, 0.34375, 'gini = 0.0\\nsamples = 1\\nvalue = [0, 1]'),\n",
       " Text(0.13232104121475055, 0.46875, 'x[6] <= 0.135\\ngini = 0.136\\nsamples = 68\\nvalue = [63, 5]'),\n",
       " Text(0.10412147505422993, 0.40625, 'x[7] <= 24.5\\ngini = 0.444\\nsamples = 3\\nvalue = [2, 1]'),\n",
       " Text(0.09544468546637744, 0.34375, 'gini = 0.0\\nsamples = 2\\nvalue = [2, 0]'),\n",
       " Text(0.11279826464208242, 0.34375, 'gini = 0.0\\nsamples = 1\\nvalue = [0, 1]'),\n",
       " Text(0.16052060737527116, 0.40625, 'x[3] <= 40.5\\ngini = 0.116\\nsamples = 65\\nvalue = [61, 4]'),\n",
       " Text(0.1301518438177874, 0.34375, 'x[2] <= 83.5\\ngini = 0.073\\nsamples = 53\\nvalue = [51, 2]'),\n",
       " Text(0.11279826464208242, 0.28125, 'x[6] <= 0.664\\ngini = 0.041\\nsamples = 48\\nvalue = [47, 1]'),\n",
       " Text(0.10412147505422993, 0.21875, 'gini = 0.0\\nsamples = 42\\nvalue = [42, 0]'),\n",
       " Text(0.12147505422993492, 0.21875, 'x[6] <= 0.68\\ngini = 0.278\\nsamples = 6\\nvalue = [5, 1]'),\n",
       " Text(0.11279826464208242, 0.15625, 'gini = 0.0\\nsamples = 1\\nvalue = [0, 1]'),\n",
       " Text(0.1301518438177874, 0.15625, 'gini = 0.0\\nsamples = 5\\nvalue = [5, 0]'),\n",
       " Text(0.1475054229934924, 0.28125, 'x[2] <= 86.5\\ngini = 0.32\\nsamples = 5\\nvalue = [4, 1]'),\n",
       " Text(0.13882863340563992, 0.21875, 'gini = 0.0\\nsamples = 1\\nvalue = [0, 1]'),\n",
       " Text(0.1561822125813449, 0.21875, 'gini = 0.0\\nsamples = 4\\nvalue = [4, 0]'),\n",
       " Text(0.19088937093275488, 0.34375, 'x[0] <= 4.0\\ngini = 0.278\\nsamples = 12\\nvalue = [10, 2]'),\n",
       " Text(0.1822125813449024, 0.28125, 'x[4] <= 24.0\\ngini = 0.165\\nsamples = 11\\nvalue = [10, 1]'),\n",
       " Text(0.1735357917570499, 0.21875, 'gini = 0.0\\nsamples = 1\\nvalue = [0, 1]'),\n",
       " Text(0.19088937093275488, 0.21875, 'gini = 0.0\\nsamples = 10\\nvalue = [10, 0]'),\n",
       " Text(0.19956616052060738, 0.28125, 'gini = 0.0\\nsamples = 1\\nvalue = [0, 1]'),\n",
       " Text(0.15835140997830802, 0.53125, 'x[4] <= 63.0\\ngini = 0.444\\nsamples = 3\\nvalue = [1, 2]'),\n",
       " Text(0.14967462039045554, 0.46875, 'gini = 0.0\\nsamples = 1\\nvalue = [1, 0]'),\n",
       " Text(0.16702819956616052, 0.46875, 'gini = 0.0\\nsamples = 2\\nvalue = [0, 2]'),\n",
       " Text(0.08866594360086767, 0.65625, 'gini = 0.0\\nsamples = 1\\nvalue = [0, 1]'),\n",
       " Text(0.1843817787418655, 0.71875, 'x[5] <= 40.25\\ngini = 0.457\\nsamples = 17\\nvalue = [11, 6]'),\n",
       " Text(0.175704989154013, 0.65625, 'x[3] <= 18.0\\ngini = 0.391\\nsamples = 15\\nvalue = [11, 4]'),\n",
       " Text(0.16702819956616052, 0.59375, 'gini = 0.0\\nsamples = 7\\nvalue = [7, 0]'),\n",
       " Text(0.1843817787418655, 0.59375, 'x[0] <= 0.5\\ngini = 0.5\\nsamples = 8\\nvalue = [4, 4]'),\n",
       " Text(0.175704989154013, 0.53125, 'gini = 0.0\\nsamples = 2\\nvalue = [0, 2]'),\n",
       " Text(0.19305856832971802, 0.53125, 'x[0] <= 2.5\\ngini = 0.444\\nsamples = 6\\nvalue = [4, 2]'),\n",
       " Text(0.1843817787418655, 0.46875, 'gini = 0.0\\nsamples = 3\\nvalue = [3, 0]'),\n",
       " Text(0.2017353579175705, 0.46875, 'x[5] <= 32.75\\ngini = 0.444\\nsamples = 3\\nvalue = [1, 2]'),\n",
       " Text(0.19305856832971802, 0.40625, 'gini = 0.0\\nsamples = 2\\nvalue = [0, 2]'),\n",
       " Text(0.210412147505423, 0.40625, 'gini = 0.0\\nsamples = 1\\nvalue = [1, 0]'),\n",
       " Text(0.19305856832971802, 0.65625, 'gini = 0.0\\nsamples = 2\\nvalue = [0, 2]'),\n",
       " Text(0.210412147505423, 0.78125, 'x[7] <= 22.5\\ngini = 0.375\\nsamples = 4\\nvalue = [1, 3]'),\n",
       " Text(0.2017353579175705, 0.71875, 'gini = 0.0\\nsamples = 1\\nvalue = [1, 0]'),\n",
       " Text(0.21908893709327548, 0.71875, 'gini = 0.0\\nsamples = 3\\nvalue = [0, 3]'),\n",
       " Text(0.30599240780911063, 0.84375, 'x[5] <= 26.95\\ngini = 0.444\\nsamples = 195\\nvalue = [130, 65]'),\n",
       " Text(0.24511930585683298, 0.78125, 'x[2] <= 94.0\\ngini = 0.087\\nsamples = 44\\nvalue = [42, 2]'),\n",
       " Text(0.23644251626898047, 0.71875, 'x[7] <= 29.5\\ngini = 0.045\\nsamples = 43\\nvalue = [42, 1]'),\n",
       " Text(0.227765726681128, 0.65625, 'x[1] <= 104.5\\ngini = 0.5\\nsamples = 2\\nvalue = [1, 1]'),\n",
       " Text(0.21908893709327548, 0.59375, 'gini = 0.0\\nsamples = 1\\nvalue = [1, 0]'),\n",
       " Text(0.23644251626898047, 0.59375, 'gini = 0.0\\nsamples = 1\\nvalue = [0, 1]'),\n",
       " Text(0.24511930585683298, 0.65625, 'gini = 0.0\\nsamples = 41\\nvalue = [41, 0]'),\n",
       " Text(0.25379609544468545, 0.71875, 'gini = 0.0\\nsamples = 1\\nvalue = [0, 1]'),\n",
       " Text(0.36686550976138826, 0.78125, 'x[1] <= 94.5\\ngini = 0.486\\nsamples = 151\\nvalue = [88, 63]'),\n",
       " Text(0.27114967462039047, 0.71875, 'x[1] <= 28.5\\ngini = 0.245\\nsamples = 35\\nvalue = [30, 5]'),\n",
       " Text(0.26247288503253796, 0.65625, 'gini = 0.0\\nsamples = 2\\nvalue = [0, 2]'),\n",
       " Text(0.279826464208243, 0.65625, 'x[6] <= 0.796\\ngini = 0.165\\nsamples = 33\\nvalue = [30, 3]'),\n",
       " Text(0.27114967462039047, 0.59375, 'gini = 0.0\\nsamples = 27\\nvalue = [27, 0]'),\n",
       " Text(0.2885032537960954, 0.59375, 'x[5] <= 38.1\\ngini = 0.5\\nsamples = 6\\nvalue = [3, 3]'),\n",
       " Text(0.279826464208243, 0.53125, 'gini = 0.0\\nsamples = 3\\nvalue = [0, 3]'),\n",
       " Text(0.29718004338394793, 0.53125, 'gini = 0.0\\nsamples = 3\\nvalue = [3, 0]'),\n",
       " Text(0.4625813449023861, 0.71875, 'x[6] <= 0.549\\ngini = 0.5\\nsamples = 116\\nvalue = [58, 58]'),\n",
       " Text(0.40238611713665945, 0.65625, 'x[2] <= 83.0\\ngini = 0.472\\nsamples = 76\\nvalue = [47, 29]'),\n",
       " Text(0.3557483731019523, 0.59375, 'x[3] <= 27.5\\ngini = 0.495\\nsamples = 58\\nvalue = [32, 26]'),\n",
       " Text(0.31453362255965295, 0.53125, 'x[6] <= 0.426\\ngini = 0.493\\nsamples = 41\\nvalue = [18, 23]'),\n",
       " Text(0.2841648590021692, 0.46875, 'x[2] <= 61.0\\ngini = 0.467\\nsamples = 35\\nvalue = [13, 22]'),\n",
       " Text(0.2668112798264642, 0.40625, 'x[5] <= 30.65\\ngini = 0.408\\nsamples = 7\\nvalue = [5, 2]'),\n",
       " Text(0.25813449023861174, 0.34375, 'x[3] <= 9.5\\ngini = 0.444\\nsamples = 3\\nvalue = [1, 2]'),\n",
       " Text(0.24945770065075923, 0.28125, 'gini = 0.0\\nsamples = 2\\nvalue = [0, 2]'),\n",
       " Text(0.2668112798264642, 0.28125, 'gini = 0.0\\nsamples = 1\\nvalue = [1, 0]'),\n",
       " Text(0.2754880694143167, 0.34375, 'gini = 0.0\\nsamples = 4\\nvalue = [4, 0]'),\n",
       " Text(0.30151843817787416, 0.40625, 'x[3] <= 6.0\\ngini = 0.408\\nsamples = 28\\nvalue = [8, 20]'),\n",
       " Text(0.2928416485900217, 0.34375, 'x[2] <= 67.0\\ngini = 0.472\\nsamples = 21\\nvalue = [8, 13]'),\n",
       " Text(0.2841648590021692, 0.28125, 'gini = 0.0\\nsamples = 5\\nvalue = [0, 5]'),\n",
       " Text(0.30151843817787416, 0.28125, 'x[2] <= 71.0\\ngini = 0.5\\nsamples = 16\\nvalue = [8, 8]'),\n",
       " Text(0.2928416485900217, 0.21875, 'gini = 0.0\\nsamples = 4\\nvalue = [4, 0]'),\n",
       " Text(0.31019522776572667, 0.21875, 'x[6] <= 0.205\\ngini = 0.444\\nsamples = 12\\nvalue = [4, 8]'),\n",
       " Text(0.30151843817787416, 0.15625, 'x[0] <= 5.5\\ngini = 0.444\\nsamples = 6\\nvalue = [4, 2]'),\n",
       " Text(0.2928416485900217, 0.09375, 'gini = 0.0\\nsamples = 3\\nvalue = [3, 0]'),\n",
       " Text(0.31019522776572667, 0.09375, 'x[6] <= 0.185\\ngini = 0.444\\nsamples = 3\\nvalue = [1, 2]'),\n",
       " Text(0.30151843817787416, 0.03125, 'gini = 0.0\\nsamples = 2\\nvalue = [0, 2]'),\n",
       " Text(0.3188720173535792, 0.03125, 'gini = 0.0\\nsamples = 1\\nvalue = [1, 0]'),\n",
       " Text(0.3188720173535792, 0.15625, 'gini = 0.0\\nsamples = 6\\nvalue = [0, 6]'),\n",
       " Text(0.31019522776572667, 0.34375, 'gini = 0.0\\nsamples = 7\\nvalue = [0, 7]'),\n",
       " Text(0.34490238611713664, 0.46875, 'x[1] <= 104.5\\ngini = 0.278\\nsamples = 6\\nvalue = [5, 1]'),\n",
       " Text(0.3362255965292842, 0.40625, 'x[0] <= 7.5\\ngini = 0.5\\nsamples = 2\\nvalue = [1, 1]'),\n",
       " Text(0.3275488069414317, 0.34375, 'gini = 0.0\\nsamples = 1\\nvalue = [0, 1]'),\n",
       " Text(0.34490238611713664, 0.34375, 'gini = 0.0\\nsamples = 1\\nvalue = [1, 0]'),\n",
       " Text(0.35357917570498915, 0.40625, 'gini = 0.0\\nsamples = 4\\nvalue = [4, 0]'),\n",
       " Text(0.3969631236442516, 0.53125, 'x[1] <= 126.5\\ngini = 0.291\\nsamples = 17\\nvalue = [14, 3]'),\n",
       " Text(0.3796095444685466, 0.46875, 'x[2] <= 79.0\\ngini = 0.133\\nsamples = 14\\nvalue = [13, 1]'),\n",
       " Text(0.37093275488069416, 0.40625, 'gini = 0.0\\nsamples = 12\\nvalue = [12, 0]'),\n",
       " Text(0.3882863340563991, 0.40625, 'x[6] <= 0.275\\ngini = 0.5\\nsamples = 2\\nvalue = [1, 1]'),\n",
       " Text(0.3796095444685466, 0.34375, 'gini = 0.0\\nsamples = 1\\nvalue = [0, 1]'),\n",
       " Text(0.3969631236442516, 0.34375, 'gini = 0.0\\nsamples = 1\\nvalue = [1, 0]'),\n",
       " Text(0.41431670281995664, 0.46875, 'x[6] <= 0.36\\ngini = 0.444\\nsamples = 3\\nvalue = [1, 2]'),\n",
       " Text(0.40563991323210413, 0.40625, 'gini = 0.0\\nsamples = 1\\nvalue = [1, 0]'),\n",
       " Text(0.4229934924078091, 0.40625, 'gini = 0.0\\nsamples = 2\\nvalue = [0, 2]'),\n",
       " Text(0.4490238611713666, 0.59375, 'x[5] <= 41.2\\ngini = 0.278\\nsamples = 18\\nvalue = [15, 3]'),\n",
       " Text(0.4403470715835141, 0.53125, 'x[4] <= 126.5\\ngini = 0.117\\nsamples = 16\\nvalue = [15, 1]'),\n",
       " Text(0.4316702819956616, 0.46875, 'gini = 0.0\\nsamples = 14\\nvalue = [14, 0]'),\n",
       " Text(0.4490238611713666, 0.46875, 'x[1] <= 125.0\\ngini = 0.5\\nsamples = 2\\nvalue = [1, 1]'),\n",
       " Text(0.4403470715835141, 0.40625, 'gini = 0.0\\nsamples = 1\\nvalue = [0, 1]'),\n",
       " Text(0.45770065075921906, 0.40625, 'gini = 0.0\\nsamples = 1\\nvalue = [1, 0]'),\n",
       " Text(0.45770065075921906, 0.53125, 'gini = 0.0\\nsamples = 2\\nvalue = [0, 2]'),\n",
       " Text(0.5227765726681128, 0.65625, 'x[3] <= 21.0\\ngini = 0.399\\nsamples = 40\\nvalue = [11, 29]'),\n",
       " Text(0.5010845986984815, 0.59375, 'x[0] <= 7.5\\ngini = 0.5\\nsamples = 16\\nvalue = [8, 8]'),\n",
       " Text(0.4924078091106291, 0.53125, 'x[4] <= 94.5\\ngini = 0.444\\nsamples = 12\\nvalue = [8, 4]'),\n",
       " Text(0.4837310195227766, 0.46875, 'x[7] <= 58.0\\ngini = 0.32\\nsamples = 10\\nvalue = [8, 2]'),\n",
       " Text(0.4750542299349241, 0.40625, 'x[1] <= 130.0\\ngini = 0.198\\nsamples = 9\\nvalue = [8, 1]'),\n",
       " Text(0.46637744034707157, 0.34375, 'gini = 0.0\\nsamples = 7\\nvalue = [7, 0]'),\n",
       " Text(0.4837310195227766, 0.34375, 'x[6] <= 0.719\\ngini = 0.5\\nsamples = 2\\nvalue = [1, 1]'),\n",
       " Text(0.4750542299349241, 0.28125, 'gini = 0.0\\nsamples = 1\\nvalue = [1, 0]'),\n",
       " Text(0.4924078091106291, 0.28125, 'gini = 0.0\\nsamples = 1\\nvalue = [0, 1]'),\n",
       " Text(0.4924078091106291, 0.40625, 'gini = 0.0\\nsamples = 1\\nvalue = [0, 1]'),\n",
       " Text(0.5010845986984815, 0.46875, 'gini = 0.0\\nsamples = 2\\nvalue = [0, 2]'),\n",
       " Text(0.5097613882863341, 0.53125, 'gini = 0.0\\nsamples = 4\\nvalue = [0, 4]'),\n",
       " Text(0.544468546637744, 0.59375, 'x[3] <= 47.5\\ngini = 0.219\\nsamples = 24\\nvalue = [3, 21]'),\n",
       " Text(0.527114967462039, 0.53125, 'x[6] <= 1.395\\ngini = 0.091\\nsamples = 21\\nvalue = [1, 20]'),\n",
       " Text(0.5184381778741866, 0.46875, 'gini = 0.0\\nsamples = 20\\nvalue = [0, 20]'),\n",
       " Text(0.5357917570498916, 0.46875, 'gini = 0.0\\nsamples = 1\\nvalue = [1, 0]'),\n",
       " Text(0.561822125813449, 0.53125, 'x[0] <= 2.0\\ngini = 0.444\\nsamples = 3\\nvalue = [2, 1]'),\n",
       " Text(0.5531453362255966, 0.46875, 'gini = 0.0\\nsamples = 2\\nvalue = [2, 0]'),\n",
       " Text(0.5704989154013015, 0.46875, 'gini = 0.0\\nsamples = 1\\nvalue = [0, 1]'),\n",
       " Text(0.7773861171366594, 0.90625, 'x[5] <= 29.95\\ngini = 0.458\\nsamples = 189\\nvalue = [67, 122]'),\n",
       " Text(0.6399132321041214, 0.84375, 'x[1] <= 145.5\\ngini = 0.469\\nsamples = 48\\nvalue = [30, 18]'),\n",
       " Text(0.5921908893709328, 0.78125, 'x[1] <= 134.5\\ngini = 0.32\\nsamples = 20\\nvalue = [16, 4]'),\n",
       " Text(0.5704989154013015, 0.71875, 'x[2] <= 73.0\\ngini = 0.444\\nsamples = 3\\nvalue = [1, 2]'),\n",
       " Text(0.561822125813449, 0.65625, 'gini = 0.0\\nsamples = 2\\nvalue = [0, 2]'),\n",
       " Text(0.579175704989154, 0.65625, 'gini = 0.0\\nsamples = 1\\nvalue = [1, 0]'),\n",
       " Text(0.613882863340564, 0.71875, 'x[3] <= 34.5\\ngini = 0.208\\nsamples = 17\\nvalue = [15, 2]'),\n",
       " Text(0.596529284164859, 0.65625, 'x[2] <= 56.0\\ngini = 0.124\\nsamples = 15\\nvalue = [14, 1]'),\n",
       " Text(0.5878524945770065, 0.59375, 'x[7] <= 42.0\\ngini = 0.5\\nsamples = 2\\nvalue = [1, 1]'),\n",
       " Text(0.579175704989154, 0.53125, 'gini = 0.0\\nsamples = 1\\nvalue = [0, 1]'),\n",
       " Text(0.596529284164859, 0.53125, 'gini = 0.0\\nsamples = 1\\nvalue = [1, 0]'),\n",
       " Text(0.6052060737527115, 0.59375, 'gini = 0.0\\nsamples = 13\\nvalue = [13, 0]'),\n",
       " Text(0.631236442516269, 0.65625, 'x[1] <= 137.5\\ngini = 0.5\\nsamples = 2\\nvalue = [1, 1]'),\n",
       " Text(0.6225596529284165, 0.59375, 'gini = 0.0\\nsamples = 1\\nvalue = [0, 1]'),\n",
       " Text(0.6399132321041214, 0.59375, 'gini = 0.0\\nsamples = 1\\nvalue = [1, 0]'),\n",
       " Text(0.6876355748373102, 0.78125, 'x[7] <= 28.5\\ngini = 0.5\\nsamples = 28\\nvalue = [14, 14]'),\n",
       " Text(0.6572668112798264, 0.71875, 'x[3] <= 16.5\\ngini = 0.245\\nsamples = 7\\nvalue = [6, 1]'),\n",
       " Text(0.648590021691974, 0.65625, 'gini = 0.0\\nsamples = 4\\nvalue = [4, 0]'),\n",
       " Text(0.665943600867679, 0.65625, 'x[3] <= 19.0\\ngini = 0.444\\nsamples = 3\\nvalue = [2, 1]'),\n",
       " Text(0.6572668112798264, 0.59375, 'gini = 0.0\\nsamples = 1\\nvalue = [0, 1]'),\n",
       " Text(0.6746203904555315, 0.59375, 'gini = 0.0\\nsamples = 2\\nvalue = [2, 0]'),\n",
       " Text(0.7180043383947939, 0.71875, 'x[7] <= 60.0\\ngini = 0.472\\nsamples = 21\\nvalue = [8, 13]'),\n",
       " Text(0.7093275488069414, 0.65625, 'x[2] <= 75.0\\ngini = 0.401\\nsamples = 18\\nvalue = [5, 13]'),\n",
       " Text(0.6919739696312365, 0.59375, 'x[4] <= 184.0\\ngini = 0.165\\nsamples = 11\\nvalue = [1, 10]'),\n",
       " Text(0.6832971800433839, 0.53125, 'gini = 0.0\\nsamples = 9\\nvalue = [0, 9]'),\n",
       " Text(0.7006507592190889, 0.53125, 'x[7] <= 34.0\\ngini = 0.5\\nsamples = 2\\nvalue = [1, 1]'),\n",
       " Text(0.6919739696312365, 0.46875, 'gini = 0.0\\nsamples = 1\\nvalue = [0, 1]'),\n",
       " Text(0.7093275488069414, 0.46875, 'gini = 0.0\\nsamples = 1\\nvalue = [1, 0]'),\n",
       " Text(0.7266811279826464, 0.59375, 'x[0] <= 5.0\\ngini = 0.49\\nsamples = 7\\nvalue = [4, 3]'),\n",
       " Text(0.7180043383947939, 0.53125, 'gini = 0.0\\nsamples = 3\\nvalue = [3, 0]'),\n",
       " Text(0.735357917570499, 0.53125, 'x[1] <= 159.0\\ngini = 0.375\\nsamples = 4\\nvalue = [1, 3]'),\n",
       " Text(0.7266811279826464, 0.46875, 'gini = 0.0\\nsamples = 3\\nvalue = [0, 3]'),\n",
       " Text(0.7440347071583514, 0.46875, 'gini = 0.0\\nsamples = 1\\nvalue = [1, 0]'),\n",
       " Text(0.7266811279826464, 0.65625, 'gini = 0.0\\nsamples = 3\\nvalue = [3, 0]'),\n",
       " Text(0.9148590021691974, 0.84375, 'x[0] <= 6.5\\ngini = 0.387\\nsamples = 141\\nvalue = [37, 104]'),\n",
       " Text(0.8644251626898047, 0.78125, 'x[1] <= 157.5\\ngini = 0.453\\nsamples = 98\\nvalue = [34, 64]'),\n",
       " Text(0.8156182212581344, 0.71875, 'x[2] <= 61.0\\ngini = 0.499\\nsamples = 46\\nvalue = [24, 22]'),\n",
       " Text(0.806941431670282, 0.65625, 'gini = 0.0\\nsamples = 6\\nvalue = [0, 6]'),\n",
       " Text(0.824295010845987, 0.65625, 'x[7] <= 45.0\\ngini = 0.48\\nsamples = 40\\nvalue = [24, 16]'),\n",
       " Text(0.8004338394793926, 0.59375, 'x[5] <= 41.7\\ngini = 0.43\\nsamples = 32\\nvalue = [22, 10]'),\n",
       " Text(0.7787418655097614, 0.53125, 'x[3] <= 24.0\\ngini = 0.33\\nsamples = 24\\nvalue = [19, 5]'),\n",
       " Text(0.7613882863340564, 0.46875, 'x[2] <= 76.0\\ngini = 0.5\\nsamples = 6\\nvalue = [3, 3]'),\n",
       " Text(0.7527114967462039, 0.40625, 'gini = 0.0\\nsamples = 3\\nvalue = [0, 3]'),\n",
       " Text(0.7700650759219089, 0.40625, 'gini = 0.0\\nsamples = 3\\nvalue = [3, 0]'),\n",
       " Text(0.7960954446854663, 0.46875, 'x[0] <= 3.5\\ngini = 0.198\\nsamples = 18\\nvalue = [16, 2]'),\n",
       " Text(0.7874186550976139, 0.40625, 'gini = 0.0\\nsamples = 10\\nvalue = [10, 0]'),\n",
       " Text(0.8047722342733189, 0.40625, 'x[3] <= 31.5\\ngini = 0.375\\nsamples = 8\\nvalue = [6, 2]'),\n",
       " Text(0.7960954446854663, 0.34375, 'gini = 0.0\\nsamples = 5\\nvalue = [5, 0]'),\n",
       " Text(0.8134490238611713, 0.34375, 'x[4] <= 352.5\\ngini = 0.444\\nsamples = 3\\nvalue = [1, 2]'),\n",
       " Text(0.8047722342733189, 0.28125, 'gini = 0.0\\nsamples = 2\\nvalue = [0, 2]'),\n",
       " Text(0.8221258134490239, 0.28125, 'gini = 0.0\\nsamples = 1\\nvalue = [1, 0]'),\n",
       " Text(0.8221258134490239, 0.53125, 'x[6] <= 0.373\\ngini = 0.469\\nsamples = 8\\nvalue = [3, 5]'),\n",
       " Text(0.8134490238611713, 0.46875, 'gini = 0.0\\nsamples = 4\\nvalue = [0, 4]'),\n",
       " Text(0.8308026030368764, 0.46875, 'x[2] <= 71.5\\ngini = 0.375\\nsamples = 4\\nvalue = [3, 1]'),\n",
       " Text(0.8221258134490239, 0.40625, 'gini = 0.0\\nsamples = 1\\nvalue = [0, 1]'),\n",
       " Text(0.8394793926247288, 0.40625, 'gini = 0.0\\nsamples = 3\\nvalue = [3, 0]'),\n",
       " Text(0.8481561822125814, 0.59375, 'x[6] <= 0.228\\ngini = 0.375\\nsamples = 8\\nvalue = [2, 6]'),\n",
       " Text(0.8394793926247288, 0.53125, 'gini = 0.0\\nsamples = 2\\nvalue = [2, 0]'),\n",
       " Text(0.8568329718004338, 0.53125, 'gini = 0.0\\nsamples = 6\\nvalue = [0, 6]'),\n",
       " Text(0.913232104121475, 0.71875, 'x[4] <= 629.5\\ngini = 0.311\\nsamples = 52\\nvalue = [10, 42]'),\n",
       " Text(0.9045553145336226, 0.65625, 'x[4] <= 40.5\\ngini = 0.269\\nsamples = 50\\nvalue = [8, 42]'),\n",
       " Text(0.8828633405639913, 0.59375, 'x[6] <= 1.341\\ngini = 0.083\\nsamples = 23\\nvalue = [1, 22]'),\n",
       " Text(0.8741865509761388, 0.53125, 'gini = 0.0\\nsamples = 20\\nvalue = [0, 20]'),\n",
       " Text(0.8915401301518439, 0.53125, 'x[1] <= 181.5\\ngini = 0.444\\nsamples = 3\\nvalue = [1, 2]'),\n",
       " Text(0.8828633405639913, 0.46875, 'gini = 0.0\\nsamples = 2\\nvalue = [0, 2]'),\n",
       " Text(0.9002169197396963, 0.46875, 'gini = 0.0\\nsamples = 1\\nvalue = [1, 0]'),\n",
       " Text(0.9262472885032538, 0.59375, 'x[4] <= 85.0\\ngini = 0.384\\nsamples = 27\\nvalue = [7, 20]'),\n",
       " Text(0.9175704989154013, 0.53125, 'gini = 0.0\\nsamples = 2\\nvalue = [2, 0]'),\n",
       " Text(0.9349240780911063, 0.53125, 'x[5] <= 45.5\\ngini = 0.32\\nsamples = 25\\nvalue = [5, 20]'),\n",
       " Text(0.9175704989154013, 0.46875, 'x[3] <= 26.5\\ngini = 0.236\\nsamples = 22\\nvalue = [3, 19]'),\n",
       " Text(0.9088937093275488, 0.40625, 'x[5] <= 31.4\\ngini = 0.5\\nsamples = 6\\nvalue = [3, 3]'),\n",
       " Text(0.9002169197396963, 0.34375, 'gini = 0.0\\nsamples = 2\\nvalue = [2, 0]'),\n",
       " Text(0.9175704989154013, 0.34375, 'x[7] <= 42.5\\ngini = 0.375\\nsamples = 4\\nvalue = [1, 3]'),\n",
       " Text(0.9088937093275488, 0.28125, 'gini = 0.0\\nsamples = 3\\nvalue = [0, 3]'),\n",
       " Text(0.9262472885032538, 0.28125, 'gini = 0.0\\nsamples = 1\\nvalue = [1, 0]'),\n",
       " Text(0.9262472885032538, 0.40625, 'gini = 0.0\\nsamples = 16\\nvalue = [0, 16]'),\n",
       " Text(0.9522776572668112, 0.46875, 'x[4] <= 177.5\\ngini = 0.444\\nsamples = 3\\nvalue = [2, 1]'),\n",
       " Text(0.9436008676789588, 0.40625, 'gini = 0.0\\nsamples = 1\\nvalue = [0, 1]'),\n",
       " Text(0.9609544468546638, 0.40625, 'gini = 0.0\\nsamples = 2\\nvalue = [2, 0]'),\n",
       " Text(0.9219088937093276, 0.65625, 'gini = 0.0\\nsamples = 2\\nvalue = [2, 0]'),\n",
       " Text(0.96529284164859, 0.78125, 'x[5] <= 32.2\\ngini = 0.13\\nsamples = 43\\nvalue = [3, 40]'),\n",
       " Text(0.9479392624728851, 0.71875, 'x[5] <= 30.85\\ngini = 0.408\\nsamples = 7\\nvalue = [2, 5]'),\n",
       " Text(0.9392624728850325, 0.65625, 'gini = 0.0\\nsamples = 5\\nvalue = [0, 5]'),\n",
       " Text(0.9566160520607375, 0.65625, 'gini = 0.0\\nsamples = 2\\nvalue = [2, 0]'),\n",
       " Text(0.982646420824295, 0.71875, 'x[6] <= 0.206\\ngini = 0.054\\nsamples = 36\\nvalue = [1, 35]'),\n",
       " Text(0.9739696312364425, 0.65625, 'x[7] <= 39.0\\ngini = 0.278\\nsamples = 6\\nvalue = [1, 5]'),\n",
       " Text(0.96529284164859, 0.59375, 'gini = 0.0\\nsamples = 1\\nvalue = [1, 0]'),\n",
       " Text(0.982646420824295, 0.59375, 'gini = 0.0\\nsamples = 5\\nvalue = [0, 5]'),\n",
       " Text(0.9913232104121475, 0.65625, 'gini = 0.0\\nsamples = 30\\nvalue = [0, 30]')]"
      ]
     },
     "execution_count": 30,
     "metadata": {},
     "output_type": "execute_result"
    },
    {
     "data": {
      "image/png": "[encoded data removed]",
      "text/plain": [
       "<Figure size 640x480 with 1 Axes>"
      ]
     },
     "metadata": {},
     "output_type": "display_data"
    }
   ],
   "source": [
    "from sklearn import tree\n",
    "tree.plot_tree(clf)"
   ]
  },
  {
   "cell_type": "code",
   "execution_count": 33,
   "id": "637288b0",
   "metadata": {},
   "outputs": [
    {
     "data": {
      "text/plain": [
       "[Text(0.5, 0.875, 'x[1] <= 133.5\\ngini = 0.45\\nsamples = 614\\nvalue = [404, 210]'),\n",
       " Text(0.25, 0.625, 'x[7] <= 28.5\\ngini = 0.328\\nsamples = 425\\nvalue = [337, 88]'),\n",
       " Text(0.125, 0.375, 'x[5] <= 45.4\\ngini = 0.18\\nsamples = 230\\nvalue = [207, 23]'),\n",
       " Text(0.0625, 0.125, '\\n  (...)  \\n'),\n",
       " Text(0.1875, 0.125, '\\n  (...)  \\n'),\n",
       " Text(0.375, 0.375, 'x[5] <= 26.95\\ngini = 0.444\\nsamples = 195\\nvalue = [130, 65]'),\n",
       " Text(0.3125, 0.125, '\\n  (...)  \\n'),\n",
       " Text(0.4375, 0.125, '\\n  (...)  \\n'),\n",
       " Text(0.75, 0.625, 'x[5] <= 29.95\\ngini = 0.458\\nsamples = 189\\nvalue = [67, 122]'),\n",
       " Text(0.625, 0.375, 'x[1] <= 145.5\\ngini = 0.469\\nsamples = 48\\nvalue = [30, 18]'),\n",
       " Text(0.5625, 0.125, '\\n  (...)  \\n'),\n",
       " Text(0.6875, 0.125, '\\n  (...)  \\n'),\n",
       " Text(0.875, 0.375, 'x[0] <= 6.5\\ngini = 0.387\\nsamples = 141\\nvalue = [37, 104]'),\n",
       " Text(0.8125, 0.125, '\\n  (...)  \\n'),\n",
       " Text(0.9375, 0.125, '\\n  (...)  \\n')]"
      ]
     },
     "execution_count": 33,
     "metadata": {},
     "output_type": "execute_result"
    },
    {
     "data": {
      "image/png": "[encoded data removed]",
      "text/plain": [
       "<Figure size 640x480 with 1 Axes>"
      ]
     },
     "metadata": {},
     "output_type": "display_data"
    }
   ],
   "source": [
    "from sklearn import tree\n",
    "tree.plot_tree(clf, max_depth = 2)"
   ]
  },
  {
   "cell_type": "code",
   "execution_count": null,
   "id": "92164643",
   "metadata": {},
   "outputs": [],
   "source": []
  }
 ],
 "metadata": {
  "kernelspec": {
   "display_name": "Python 3 (ipykernel)",
   "language": "python",
   "name": "python3"
  },
  "language_info": {
   "codemirror_mode": {
    "name": "ipython",
    "version": 3
   },
   "file_extension": ".py",
   "mimetype": "text/x-python",
   "name": "python",
   "nbconvert_exporter": "python",
   "pygments_lexer": "ipython3",
   "version": "3.10.9"
  }
 },
 "nbformat": 4,
 "nbformat_minor": 5
}
